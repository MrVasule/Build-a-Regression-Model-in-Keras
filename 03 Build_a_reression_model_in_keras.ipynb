{
  "nbformat": 4,
  "nbformat_minor": 0,
  "metadata": {
    "colab": {
      "name": "Build a reression model in keras.ipynb",
      "provenance": []
    },
    "kernelspec": {
      "name": "python3",
      "display_name": "Python 3"
    },
    "language_info": {
      "name": "python"
    }
  },
  "cells": [
    {
      "cell_type": "code",
      "execution_count": 1,
      "metadata": {
        "id": "kDNy1RPmfqDM"
      },
      "outputs": [],
      "source": [
        "import pandas as pd\n",
        "import numpy as np"
      ]
    },
    {
      "cell_type": "code",
      "source": [
        "concrete_data = pd.read_csv('https://cocl.us/concrete_data')\n",
        "concrete_data.head()"
      ],
      "metadata": {
        "colab": {
          "base_uri": "https://localhost:8080/",
          "height": 206
        },
        "id": "tKYzQhfCgF3K",
        "outputId": "3bf959e3-a175-478f-efcf-1cf072e54ee8"
      },
      "execution_count": 2,
      "outputs": [
        {
          "output_type": "execute_result",
          "data": {
            "text/html": [
              "\n",
              "  <div id=\"df-cfcf3570-7a0d-4724-8143-3339d34ff2bd\">\n",
              "    <div class=\"colab-df-container\">\n",
              "      <div>\n",
              "<style scoped>\n",
              "    .dataframe tbody tr th:only-of-type {\n",
              "        vertical-align: middle;\n",
              "    }\n",
              "\n",
              "    .dataframe tbody tr th {\n",
              "        vertical-align: top;\n",
              "    }\n",
              "\n",
              "    .dataframe thead th {\n",
              "        text-align: right;\n",
              "    }\n",
              "</style>\n",
              "<table border=\"1\" class=\"dataframe\">\n",
              "  <thead>\n",
              "    <tr style=\"text-align: right;\">\n",
              "      <th></th>\n",
              "      <th>Cement</th>\n",
              "      <th>Blast Furnace Slag</th>\n",
              "      <th>Fly Ash</th>\n",
              "      <th>Water</th>\n",
              "      <th>Superplasticizer</th>\n",
              "      <th>Coarse Aggregate</th>\n",
              "      <th>Fine Aggregate</th>\n",
              "      <th>Age</th>\n",
              "      <th>Strength</th>\n",
              "    </tr>\n",
              "  </thead>\n",
              "  <tbody>\n",
              "    <tr>\n",
              "      <th>0</th>\n",
              "      <td>540.0</td>\n",
              "      <td>0.0</td>\n",
              "      <td>0.0</td>\n",
              "      <td>162.0</td>\n",
              "      <td>2.5</td>\n",
              "      <td>1040.0</td>\n",
              "      <td>676.0</td>\n",
              "      <td>28</td>\n",
              "      <td>79.99</td>\n",
              "    </tr>\n",
              "    <tr>\n",
              "      <th>1</th>\n",
              "      <td>540.0</td>\n",
              "      <td>0.0</td>\n",
              "      <td>0.0</td>\n",
              "      <td>162.0</td>\n",
              "      <td>2.5</td>\n",
              "      <td>1055.0</td>\n",
              "      <td>676.0</td>\n",
              "      <td>28</td>\n",
              "      <td>61.89</td>\n",
              "    </tr>\n",
              "    <tr>\n",
              "      <th>2</th>\n",
              "      <td>332.5</td>\n",
              "      <td>142.5</td>\n",
              "      <td>0.0</td>\n",
              "      <td>228.0</td>\n",
              "      <td>0.0</td>\n",
              "      <td>932.0</td>\n",
              "      <td>594.0</td>\n",
              "      <td>270</td>\n",
              "      <td>40.27</td>\n",
              "    </tr>\n",
              "    <tr>\n",
              "      <th>3</th>\n",
              "      <td>332.5</td>\n",
              "      <td>142.5</td>\n",
              "      <td>0.0</td>\n",
              "      <td>228.0</td>\n",
              "      <td>0.0</td>\n",
              "      <td>932.0</td>\n",
              "      <td>594.0</td>\n",
              "      <td>365</td>\n",
              "      <td>41.05</td>\n",
              "    </tr>\n",
              "    <tr>\n",
              "      <th>4</th>\n",
              "      <td>198.6</td>\n",
              "      <td>132.4</td>\n",
              "      <td>0.0</td>\n",
              "      <td>192.0</td>\n",
              "      <td>0.0</td>\n",
              "      <td>978.4</td>\n",
              "      <td>825.5</td>\n",
              "      <td>360</td>\n",
              "      <td>44.30</td>\n",
              "    </tr>\n",
              "  </tbody>\n",
              "</table>\n",
              "</div>\n",
              "      <button class=\"colab-df-convert\" onclick=\"convertToInteractive('df-cfcf3570-7a0d-4724-8143-3339d34ff2bd')\"\n",
              "              title=\"Convert this dataframe to an interactive table.\"\n",
              "              style=\"display:none;\">\n",
              "        \n",
              "  <svg xmlns=\"http://www.w3.org/2000/svg\" height=\"24px\"viewBox=\"0 0 24 24\"\n",
              "       width=\"24px\">\n",
              "    <path d=\"M0 0h24v24H0V0z\" fill=\"none\"/>\n",
              "    <path d=\"M18.56 5.44l.94 2.06.94-2.06 2.06-.94-2.06-.94-.94-2.06-.94 2.06-2.06.94zm-11 1L8.5 8.5l.94-2.06 2.06-.94-2.06-.94L8.5 2.5l-.94 2.06-2.06.94zm10 10l.94 2.06.94-2.06 2.06-.94-2.06-.94-.94-2.06-.94 2.06-2.06.94z\"/><path d=\"M17.41 7.96l-1.37-1.37c-.4-.4-.92-.59-1.43-.59-.52 0-1.04.2-1.43.59L10.3 9.45l-7.72 7.72c-.78.78-.78 2.05 0 2.83L4 21.41c.39.39.9.59 1.41.59.51 0 1.02-.2 1.41-.59l7.78-7.78 2.81-2.81c.8-.78.8-2.07 0-2.86zM5.41 20L4 18.59l7.72-7.72 1.47 1.35L5.41 20z\"/>\n",
              "  </svg>\n",
              "      </button>\n",
              "      \n",
              "  <style>\n",
              "    .colab-df-container {\n",
              "      display:flex;\n",
              "      flex-wrap:wrap;\n",
              "      gap: 12px;\n",
              "    }\n",
              "\n",
              "    .colab-df-convert {\n",
              "      background-color: #E8F0FE;\n",
              "      border: none;\n",
              "      border-radius: 50%;\n",
              "      cursor: pointer;\n",
              "      display: none;\n",
              "      fill: #1967D2;\n",
              "      height: 32px;\n",
              "      padding: 0 0 0 0;\n",
              "      width: 32px;\n",
              "    }\n",
              "\n",
              "    .colab-df-convert:hover {\n",
              "      background-color: #E2EBFA;\n",
              "      box-shadow: 0px 1px 2px rgba(60, 64, 67, 0.3), 0px 1px 3px 1px rgba(60, 64, 67, 0.15);\n",
              "      fill: #174EA6;\n",
              "    }\n",
              "\n",
              "    [theme=dark] .colab-df-convert {\n",
              "      background-color: #3B4455;\n",
              "      fill: #D2E3FC;\n",
              "    }\n",
              "\n",
              "    [theme=dark] .colab-df-convert:hover {\n",
              "      background-color: #434B5C;\n",
              "      box-shadow: 0px 1px 3px 1px rgba(0, 0, 0, 0.15);\n",
              "      filter: drop-shadow(0px 1px 2px rgba(0, 0, 0, 0.3));\n",
              "      fill: #FFFFFF;\n",
              "    }\n",
              "  </style>\n",
              "\n",
              "      <script>\n",
              "        const buttonEl =\n",
              "          document.querySelector('#df-cfcf3570-7a0d-4724-8143-3339d34ff2bd button.colab-df-convert');\n",
              "        buttonEl.style.display =\n",
              "          google.colab.kernel.accessAllowed ? 'block' : 'none';\n",
              "\n",
              "        async function convertToInteractive(key) {\n",
              "          const element = document.querySelector('#df-cfcf3570-7a0d-4724-8143-3339d34ff2bd');\n",
              "          const dataTable =\n",
              "            await google.colab.kernel.invokeFunction('convertToInteractive',\n",
              "                                                     [key], {});\n",
              "          if (!dataTable) return;\n",
              "\n",
              "          const docLinkHtml = 'Like what you see? Visit the ' +\n",
              "            '<a target=\"_blank\" href=https://colab.research.google.com/notebooks/data_table.ipynb>data table notebook</a>'\n",
              "            + ' to learn more about interactive tables.';\n",
              "          element.innerHTML = '';\n",
              "          dataTable['output_type'] = 'display_data';\n",
              "          await google.colab.output.renderOutput(dataTable, element);\n",
              "          const docLink = document.createElement('div');\n",
              "          docLink.innerHTML = docLinkHtml;\n",
              "          element.appendChild(docLink);\n",
              "        }\n",
              "      </script>\n",
              "    </div>\n",
              "  </div>\n",
              "  "
            ],
            "text/plain": [
              "   Cement  Blast Furnace Slag  Fly Ash  ...  Fine Aggregate  Age  Strength\n",
              "0   540.0                 0.0      0.0  ...           676.0   28     79.99\n",
              "1   540.0                 0.0      0.0  ...           676.0   28     61.89\n",
              "2   332.5               142.5      0.0  ...           594.0  270     40.27\n",
              "3   332.5               142.5      0.0  ...           594.0  365     41.05\n",
              "4   198.6               132.4      0.0  ...           825.5  360     44.30\n",
              "\n",
              "[5 rows x 9 columns]"
            ]
          },
          "metadata": {},
          "execution_count": 2
        }
      ]
    },
    {
      "cell_type": "code",
      "source": [
        "concrete_data.shape\n",
        "concrete_data.describe()\n",
        "concrete_data.isnull().sum()"
      ],
      "metadata": {
        "colab": {
          "base_uri": "https://localhost:8080/"
        },
        "id": "vuUyWLCbgNSC",
        "outputId": "10ca98d7-6ef1-4e31-aac0-fd277e128214"
      },
      "execution_count": 3,
      "outputs": [
        {
          "output_type": "execute_result",
          "data": {
            "text/plain": [
              "Cement                0\n",
              "Blast Furnace Slag    0\n",
              "Fly Ash               0\n",
              "Water                 0\n",
              "Superplasticizer      0\n",
              "Coarse Aggregate      0\n",
              "Fine Aggregate        0\n",
              "Age                   0\n",
              "Strength              0\n",
              "dtype: int64"
            ]
          },
          "metadata": {},
          "execution_count": 3
        }
      ]
    },
    {
      "cell_type": "markdown",
      "source": [
        "# Cleaning And Normlized Data"
      ],
      "metadata": {
        "id": "tmwwXicBjHb-"
      }
    },
    {
      "cell_type": "code",
      "source": [
        "concrete_data_columns = concrete_data.columns\n",
        "predictors = concrete_data[concrete_data_columns[concrete_data_columns != 'Strength']]\n",
        "target = concrete_data['Strength'] "
      ],
      "metadata": {
        "id": "FXojmrNPgqb0"
      },
      "execution_count": 4,
      "outputs": []
    },
    {
      "cell_type": "code",
      "source": [
        "predictors.head()\n",
        "target.head()"
      ],
      "metadata": {
        "colab": {
          "base_uri": "https://localhost:8080/"
        },
        "id": "558i26UZg2FW",
        "outputId": "ec4fc74c-3002-47ff-e115-d5bbbe18839e"
      },
      "execution_count": 5,
      "outputs": [
        {
          "output_type": "execute_result",
          "data": {
            "text/plain": [
              "0    79.99\n",
              "1    61.89\n",
              "2    40.27\n",
              "3    41.05\n",
              "4    44.30\n",
              "Name: Strength, dtype: float64"
            ]
          },
          "metadata": {},
          "execution_count": 5
        }
      ]
    },
    {
      "cell_type": "code",
      "source": [
        "n_cols = predictors.shape[1] # number of predictors\n",
        "n_cols"
      ],
      "metadata": {
        "colab": {
          "base_uri": "https://localhost:8080/"
        },
        "id": "_sxmn4sMg7Dl",
        "outputId": "a08e700a-a75a-4a25-dc40-a45899419c67"
      },
      "execution_count": 6,
      "outputs": [
        {
          "output_type": "execute_result",
          "data": {
            "text/plain": [
              "8"
            ]
          },
          "metadata": {},
          "execution_count": 6
        }
      ]
    },
    {
      "cell_type": "code",
      "source": [
        "import keras\n",
        "from keras.models import Sequential\n",
        "from keras.layers import Dense"
      ],
      "metadata": {
        "id": "DuXEyvb0g_JO"
      },
      "execution_count": 7,
      "outputs": []
    },
    {
      "cell_type": "code",
      "source": [
        "# define regression model\n",
        "def regression_model():\n",
        "    # create model\n",
        "    model = Sequential()\n",
        "    model.add(Dense(10, activation='relu', input_shape=(n_cols,)))\n",
        "    model.add(Dense(1))\n",
        "    \n",
        "    # compile model\n",
        "    model.compile(optimizer='adam', loss='mean_squared_error')\n",
        "    return model"
      ],
      "metadata": {
        "id": "95x3z6SShECf"
      },
      "execution_count": 8,
      "outputs": []
    },
    {
      "cell_type": "code",
      "source": [
        "from sklearn.model_selection import train_test_split\n",
        "X_train, X_test, y_train, y_test = train_test_split(predictors, target, test_size=0.3, random_state=42)"
      ],
      "metadata": {
        "id": "3pCL06uUhIh4"
      },
      "execution_count": 9,
      "outputs": []
    },
    {
      "cell_type": "code",
      "source": [
        "# build the model\n",
        "model = regression_model()"
      ],
      "metadata": {
        "id": "VeUY51FshK5Q"
      },
      "execution_count": 10,
      "outputs": []
    },
    {
      "cell_type": "code",
      "source": [
        "# fit the model\n",
        "epochs = 100\n",
        "model.fit(X_train, y_train, epochs=epochs, verbose=1)"
      ],
      "metadata": {
        "colab": {
          "base_uri": "https://localhost:8080/"
        },
        "id": "lnuxxZUrhNZz",
        "outputId": "ff445bd1-5a89-4bf0-b873-9ca40946643b"
      },
      "execution_count": 11,
      "outputs": [
        {
          "output_type": "stream",
          "name": "stdout",
          "text": [
            "Epoch 1/100\n",
            "23/23 [==============================] - 1s 3ms/step - loss: 8369.7021\n",
            "Epoch 2/100\n",
            "23/23 [==============================] - 0s 4ms/step - loss: 3600.7649\n",
            "Epoch 3/100\n",
            "23/23 [==============================] - 0s 3ms/step - loss: 2762.5024\n",
            "Epoch 4/100\n",
            "23/23 [==============================] - 0s 3ms/step - loss: 2240.6155\n",
            "Epoch 5/100\n",
            "23/23 [==============================] - 0s 3ms/step - loss: 1864.8452\n",
            "Epoch 6/100\n",
            "23/23 [==============================] - 0s 3ms/step - loss: 1578.6727\n",
            "Epoch 7/100\n",
            "23/23 [==============================] - 0s 4ms/step - loss: 1335.8120\n",
            "Epoch 8/100\n",
            "23/23 [==============================] - 0s 3ms/step - loss: 1126.9790\n",
            "Epoch 9/100\n",
            "23/23 [==============================] - 0s 3ms/step - loss: 945.0439\n",
            "Epoch 10/100\n",
            "23/23 [==============================] - 0s 3ms/step - loss: 794.4712\n",
            "Epoch 11/100\n",
            "23/23 [==============================] - 0s 3ms/step - loss: 668.5983\n",
            "Epoch 12/100\n",
            "23/23 [==============================] - 0s 3ms/step - loss: 568.5385\n",
            "Epoch 13/100\n",
            "23/23 [==============================] - 0s 3ms/step - loss: 486.4311\n",
            "Epoch 14/100\n",
            "23/23 [==============================] - 0s 3ms/step - loss: 430.1057\n",
            "Epoch 15/100\n",
            "23/23 [==============================] - 0s 4ms/step - loss: 381.2662\n",
            "Epoch 16/100\n",
            "23/23 [==============================] - 0s 4ms/step - loss: 342.3008\n",
            "Epoch 17/100\n",
            "23/23 [==============================] - 0s 4ms/step - loss: 310.3776\n",
            "Epoch 18/100\n",
            "23/23 [==============================] - 0s 4ms/step - loss: 283.6445\n",
            "Epoch 19/100\n",
            "23/23 [==============================] - 0s 4ms/step - loss: 263.9484\n",
            "Epoch 20/100\n",
            "23/23 [==============================] - 0s 3ms/step - loss: 239.1926\n",
            "Epoch 21/100\n",
            "23/23 [==============================] - 0s 5ms/step - loss: 226.1973\n",
            "Epoch 22/100\n",
            "23/23 [==============================] - 0s 4ms/step - loss: 208.5428\n",
            "Epoch 23/100\n",
            "23/23 [==============================] - 0s 4ms/step - loss: 194.0356\n",
            "Epoch 24/100\n",
            "23/23 [==============================] - 0s 3ms/step - loss: 182.8024\n",
            "Epoch 25/100\n",
            "23/23 [==============================] - 0s 3ms/step - loss: 172.0874\n",
            "Epoch 26/100\n",
            "23/23 [==============================] - 0s 2ms/step - loss: 162.9634\n",
            "Epoch 27/100\n",
            "23/23 [==============================] - 0s 4ms/step - loss: 155.4071\n",
            "Epoch 28/100\n",
            "23/23 [==============================] - 0s 3ms/step - loss: 149.2918\n",
            "Epoch 29/100\n",
            "23/23 [==============================] - 0s 3ms/step - loss: 141.9673\n",
            "Epoch 30/100\n",
            "23/23 [==============================] - 0s 4ms/step - loss: 139.3835\n",
            "Epoch 31/100\n",
            "23/23 [==============================] - 0s 7ms/step - loss: 133.6821\n",
            "Epoch 32/100\n",
            "23/23 [==============================] - 0s 3ms/step - loss: 126.8129\n",
            "Epoch 33/100\n",
            "23/23 [==============================] - 0s 3ms/step - loss: 127.0328\n",
            "Epoch 34/100\n",
            "23/23 [==============================] - 0s 2ms/step - loss: 121.9304\n",
            "Epoch 35/100\n",
            "23/23 [==============================] - 0s 2ms/step - loss: 119.3221\n",
            "Epoch 36/100\n",
            "23/23 [==============================] - 0s 3ms/step - loss: 116.2479\n",
            "Epoch 37/100\n",
            "23/23 [==============================] - 0s 2ms/step - loss: 113.6234\n",
            "Epoch 38/100\n",
            "23/23 [==============================] - 0s 5ms/step - loss: 112.1393\n",
            "Epoch 39/100\n",
            "23/23 [==============================] - 0s 5ms/step - loss: 110.8949\n",
            "Epoch 40/100\n",
            "23/23 [==============================] - 0s 5ms/step - loss: 109.8284\n",
            "Epoch 41/100\n",
            "23/23 [==============================] - 0s 4ms/step - loss: 109.3450\n",
            "Epoch 42/100\n",
            "23/23 [==============================] - 0s 3ms/step - loss: 109.3124\n",
            "Epoch 43/100\n",
            "23/23 [==============================] - 0s 3ms/step - loss: 110.2087\n",
            "Epoch 44/100\n",
            "23/23 [==============================] - 0s 2ms/step - loss: 106.4634\n",
            "Epoch 45/100\n",
            "23/23 [==============================] - 0s 3ms/step - loss: 105.6141\n",
            "Epoch 46/100\n",
            "23/23 [==============================] - 0s 5ms/step - loss: 105.4433\n",
            "Epoch 47/100\n",
            "23/23 [==============================] - 0s 4ms/step - loss: 104.9690\n",
            "Epoch 48/100\n",
            "23/23 [==============================] - 0s 3ms/step - loss: 104.5382\n",
            "Epoch 49/100\n",
            "23/23 [==============================] - 0s 4ms/step - loss: 104.9477\n",
            "Epoch 50/100\n",
            "23/23 [==============================] - 0s 4ms/step - loss: 105.4283\n",
            "Epoch 51/100\n",
            "23/23 [==============================] - 0s 5ms/step - loss: 104.0874\n",
            "Epoch 52/100\n",
            "23/23 [==============================] - 0s 4ms/step - loss: 109.3359\n",
            "Epoch 53/100\n",
            "23/23 [==============================] - 0s 3ms/step - loss: 103.6223\n",
            "Epoch 54/100\n",
            "23/23 [==============================] - 0s 3ms/step - loss: 102.8263\n",
            "Epoch 55/100\n",
            "23/23 [==============================] - 0s 5ms/step - loss: 101.6925\n",
            "Epoch 56/100\n",
            "23/23 [==============================] - 0s 4ms/step - loss: 101.6519\n",
            "Epoch 57/100\n",
            "23/23 [==============================] - 0s 2ms/step - loss: 101.8643\n",
            "Epoch 58/100\n",
            "23/23 [==============================] - 0s 3ms/step - loss: 100.2497\n",
            "Epoch 59/100\n",
            "23/23 [==============================] - 0s 6ms/step - loss: 99.9153\n",
            "Epoch 60/100\n",
            "23/23 [==============================] - 0s 4ms/step - loss: 100.2942\n",
            "Epoch 61/100\n",
            "23/23 [==============================] - 0s 3ms/step - loss: 100.2976\n",
            "Epoch 62/100\n",
            "23/23 [==============================] - 0s 3ms/step - loss: 100.0656\n",
            "Epoch 63/100\n",
            "23/23 [==============================] - 0s 2ms/step - loss: 97.8074\n",
            "Epoch 64/100\n",
            "23/23 [==============================] - 0s 5ms/step - loss: 99.4674\n",
            "Epoch 65/100\n",
            "23/23 [==============================] - 0s 4ms/step - loss: 99.1946\n",
            "Epoch 66/100\n",
            "23/23 [==============================] - 0s 4ms/step - loss: 97.9271\n",
            "Epoch 67/100\n",
            "23/23 [==============================] - 0s 3ms/step - loss: 99.8233\n",
            "Epoch 68/100\n",
            "23/23 [==============================] - 0s 4ms/step - loss: 101.0338\n",
            "Epoch 69/100\n",
            "23/23 [==============================] - 0s 6ms/step - loss: 96.7118\n",
            "Epoch 70/100\n",
            "23/23 [==============================] - 0s 3ms/step - loss: 96.7019\n",
            "Epoch 71/100\n",
            "23/23 [==============================] - 0s 3ms/step - loss: 97.5377\n",
            "Epoch 72/100\n",
            "23/23 [==============================] - 0s 3ms/step - loss: 95.9770\n",
            "Epoch 73/100\n",
            "23/23 [==============================] - 0s 4ms/step - loss: 98.1289\n",
            "Epoch 74/100\n",
            "23/23 [==============================] - 0s 5ms/step - loss: 95.9334\n",
            "Epoch 75/100\n",
            "23/23 [==============================] - 0s 6ms/step - loss: 96.5245\n",
            "Epoch 76/100\n",
            "23/23 [==============================] - 0s 4ms/step - loss: 98.2694\n",
            "Epoch 77/100\n",
            "23/23 [==============================] - 0s 4ms/step - loss: 96.9355\n",
            "Epoch 78/100\n",
            "23/23 [==============================] - 0s 9ms/step - loss: 95.0809\n",
            "Epoch 79/100\n",
            "23/23 [==============================] - 0s 7ms/step - loss: 94.1505\n",
            "Epoch 80/100\n",
            "23/23 [==============================] - 0s 7ms/step - loss: 93.4710\n",
            "Epoch 81/100\n",
            "23/23 [==============================] - 0s 3ms/step - loss: 94.2223\n",
            "Epoch 82/100\n",
            "23/23 [==============================] - 0s 3ms/step - loss: 96.8921\n",
            "Epoch 83/100\n",
            "23/23 [==============================] - 0s 4ms/step - loss: 94.9403\n",
            "Epoch 84/100\n",
            "23/23 [==============================] - 0s 4ms/step - loss: 93.2875\n",
            "Epoch 85/100\n",
            "23/23 [==============================] - 0s 8ms/step - loss: 92.8080\n",
            "Epoch 86/100\n",
            "23/23 [==============================] - 0s 3ms/step - loss: 92.9241\n",
            "Epoch 87/100\n",
            "23/23 [==============================] - 0s 3ms/step - loss: 92.3335\n",
            "Epoch 88/100\n",
            "23/23 [==============================] - 0s 5ms/step - loss: 91.9540\n",
            "Epoch 89/100\n",
            "23/23 [==============================] - 0s 3ms/step - loss: 94.4522\n",
            "Epoch 90/100\n",
            "23/23 [==============================] - 0s 2ms/step - loss: 92.0653\n",
            "Epoch 91/100\n",
            "23/23 [==============================] - 0s 5ms/step - loss: 90.7534\n",
            "Epoch 92/100\n",
            "23/23 [==============================] - 0s 3ms/step - loss: 90.8084\n",
            "Epoch 93/100\n",
            "23/23 [==============================] - 0s 3ms/step - loss: 91.0349\n",
            "Epoch 94/100\n",
            "23/23 [==============================] - 0s 4ms/step - loss: 91.0460\n",
            "Epoch 95/100\n",
            "23/23 [==============================] - 0s 4ms/step - loss: 90.6455\n",
            "Epoch 96/100\n",
            "23/23 [==============================] - 0s 3ms/step - loss: 91.1136\n",
            "Epoch 97/100\n",
            "23/23 [==============================] - 0s 3ms/step - loss: 91.5624\n",
            "Epoch 98/100\n",
            "23/23 [==============================] - 0s 3ms/step - loss: 89.1566\n",
            "Epoch 99/100\n",
            "23/23 [==============================] - 0s 7ms/step - loss: 89.7176\n",
            "Epoch 100/100\n",
            "23/23 [==============================] - 0s 3ms/step - loss: 90.0406\n"
          ]
        },
        {
          "output_type": "execute_result",
          "data": {
            "text/plain": [
              "<keras.callbacks.History at 0x7f4192c6b1d0>"
            ]
          },
          "metadata": {},
          "execution_count": 11
        }
      ]
    },
    {
      "cell_type": "code",
      "source": [
        "loss_val = model.evaluate(X_test, y_test)\n",
        "y_pred = model.predict(X_test)\n",
        "loss_val"
      ],
      "metadata": {
        "colab": {
          "base_uri": "https://localhost:8080/"
        },
        "id": "L7bkeYFAhRpU",
        "outputId": "c91092e6-e325-4519-9d36-f49e37b38b92"
      },
      "execution_count": 12,
      "outputs": [
        {
          "output_type": "stream",
          "name": "stdout",
          "text": [
            "10/10 [==============================] - 0s 3ms/step - loss: 96.4425\n"
          ]
        },
        {
          "output_type": "execute_result",
          "data": {
            "text/plain": [
              "96.44245910644531"
            ]
          },
          "metadata": {},
          "execution_count": 12
        }
      ]
    },
    {
      "cell_type": "code",
      "source": [
        "from sklearn.metrics import mean_squared_error"
      ],
      "metadata": {
        "id": "5SUxevb8hWgi"
      },
      "execution_count": 13,
      "outputs": []
    },
    {
      "cell_type": "code",
      "source": [
        "mean_square_error = mean_squared_error(y_test, y_pred)\n",
        "mean = np.mean(mean_square_error)\n",
        "standard_deviation = np.std(mean_square_error)\n",
        "print(mean, standard_deviation)"
      ],
      "metadata": {
        "colab": {
          "base_uri": "https://localhost:8080/"
        },
        "id": "vMA_UNDKhY_Q",
        "outputId": "155a10fb-f32d-41b9-9144-b36c2b923254"
      },
      "execution_count": 14,
      "outputs": [
        {
          "output_type": "stream",
          "name": "stdout",
          "text": [
            "96.44247459129977 0.0\n"
          ]
        }
      ]
    },
    {
      "cell_type": "code",
      "source": [
        "total_mean_squared_errors = 50\n",
        "epochs = 50\n",
        "mean_squared_errors = []\n",
        "for i in range(0, total_mean_squared_errors):\n",
        "    X_train, X_test, y_train, y_test = train_test_split(predictors, target, test_size=0.3, random_state=i)\n",
        "    model.fit(X_train, y_train, epochs=epochs, verbose=0)\n",
        "    MSE = model.evaluate(X_test, y_test, verbose=0)\n",
        "    print(\"MSE \"+str(i+1)+\": \"+str(MSE))\n",
        "    y_pred = model.predict(X_test)\n",
        "    mean_square_error = mean_squared_error(y_test, y_pred)\n",
        "    mean_squared_errors.append(mean_square_error)\n",
        "\n",
        "mean_squared_errors = np.array(mean_squared_errors)\n",
        "mean = np.mean(mean_squared_errors)\n",
        "standard_deviation = np.std(mean_squared_errors)\n",
        "\n",
        "print('\\n')\n",
        "print(\"Below is the mean and standard deviation of \" +str(total_mean_squared_errors) + \" mean squared errors without normalized data. Total number of epochs for each training is: \" +str(epochs) + \"\\n\")\n",
        "print(\"Mean: \"+str(mean))\n",
        "print(\"Standard Deviation: \"+str(standard_deviation))"
      ],
      "metadata": {
        "colab": {
          "base_uri": "https://localhost:8080/"
        },
        "id": "gyally9ihbza",
        "outputId": "1f23e021-9896-4314-ef15-14569eb44f1b"
      },
      "execution_count": 15,
      "outputs": [
        {
          "output_type": "stream",
          "name": "stdout",
          "text": [
            "MSE 1: 81.29092407226562\n",
            "MSE 2: 76.93672943115234\n",
            "MSE 3: 57.513587951660156\n",
            "MSE 4: 55.22450256347656\n",
            "MSE 5: 56.991214752197266\n",
            "MSE 6: 56.68739318847656\n",
            "MSE 7: 63.51390075683594\n",
            "MSE 8: 46.115211486816406\n",
            "MSE 9: 48.71976089477539\n",
            "MSE 10: 56.181785583496094\n",
            "MSE 11: 45.168460845947266\n",
            "MSE 12: 49.227012634277344\n",
            "MSE 13: 57.38311004638672\n",
            "MSE 14: 53.84333801269531\n",
            "MSE 15: 51.689395904541016\n",
            "MSE 16: 43.92378234863281\n",
            "MSE 17: 47.722591400146484\n",
            "MSE 18: 46.20369338989258\n",
            "MSE 19: 47.8299446105957\n",
            "MSE 20: 54.072120666503906\n",
            "MSE 21: 42.465450286865234\n",
            "MSE 22: 43.959896087646484\n",
            "MSE 23: 44.5830078125\n",
            "MSE 24: 45.38399887084961\n",
            "MSE 25: 49.82617950439453\n",
            "MSE 26: 45.70328903198242\n",
            "MSE 27: 47.28890609741211\n",
            "MSE 28: 41.728477478027344\n",
            "MSE 29: 47.5632438659668\n",
            "MSE 30: 44.42794418334961\n",
            "MSE 31: 43.583740234375\n",
            "MSE 32: 50.1682243347168\n",
            "MSE 33: 41.81105422973633\n",
            "MSE 34: 43.36589431762695\n",
            "MSE 35: 41.557159423828125\n",
            "MSE 36: 47.20228576660156\n",
            "MSE 37: 47.498077392578125\n",
            "MSE 38: 47.799320220947266\n",
            "MSE 39: 42.723716735839844\n",
            "MSE 40: 36.64594268798828\n",
            "MSE 41: 46.69732666015625\n",
            "MSE 42: 39.114173889160156\n",
            "MSE 43: 41.515045166015625\n",
            "MSE 44: 46.90059280395508\n",
            "MSE 45: 47.74882507324219\n",
            "MSE 46: 48.450313568115234\n",
            "MSE 47: 47.0097541809082\n",
            "MSE 48: 44.71171951293945\n",
            "MSE 49: 45.48440933227539\n",
            "MSE 50: 44.501224517822266\n",
            "\n",
            "\n",
            "Below is the mean and standard deviation of 50 mean squared errors without normalized data. Total number of epochs for each training is: 50\n",
            "\n",
            "Mean: 48.87315199124616\n",
            "Standard Deviation: 8.105479781221387\n"
          ]
        }
      ]
    },
    {
      "cell_type": "code",
      "source": [
        ""
      ],
      "metadata": {
        "id": "czi7q-8thfe6"
      },
      "execution_count": 15,
      "outputs": []
    }
  ]
}
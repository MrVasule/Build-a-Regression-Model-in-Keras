{
  "nbformat": 4,
  "nbformat_minor": 0,
  "metadata": {
    "colab": {
      "name": "Build a reression model in keras.ipynb",
      "provenance": []
    },
    "kernelspec": {
      "name": "python3",
      "display_name": "Python 3"
    },
    "language_info": {
      "name": "python"
    }
  },
  "cells": [
    {
      "cell_type": "code",
      "execution_count": 1,
      "metadata": {
        "id": "kDNy1RPmfqDM"
      },
      "outputs": [],
      "source": [
        "import pandas as pd\n",
        "import numpy as np"
      ]
    },
    {
      "cell_type": "code",
      "source": [
        "concrete_data = pd.read_csv('https://cocl.us/concrete_data')\n",
        "concrete_data.head()"
      ],
      "metadata": {
        "colab": {
          "base_uri": "https://localhost:8080/",
          "height": 206
        },
        "id": "tKYzQhfCgF3K",
        "outputId": "2496afa1-18ff-47bf-f5cb-447bb3f8ef8f"
      },
      "execution_count": 2,
      "outputs": [
        {
          "output_type": "execute_result",
          "data": {
            "text/html": [
              "\n",
              "  <div id=\"df-c927480a-a229-43bd-ab96-beb381bb9282\">\n",
              "    <div class=\"colab-df-container\">\n",
              "      <div>\n",
              "<style scoped>\n",
              "    .dataframe tbody tr th:only-of-type {\n",
              "        vertical-align: middle;\n",
              "    }\n",
              "\n",
              "    .dataframe tbody tr th {\n",
              "        vertical-align: top;\n",
              "    }\n",
              "\n",
              "    .dataframe thead th {\n",
              "        text-align: right;\n",
              "    }\n",
              "</style>\n",
              "<table border=\"1\" class=\"dataframe\">\n",
              "  <thead>\n",
              "    <tr style=\"text-align: right;\">\n",
              "      <th></th>\n",
              "      <th>Cement</th>\n",
              "      <th>Blast Furnace Slag</th>\n",
              "      <th>Fly Ash</th>\n",
              "      <th>Water</th>\n",
              "      <th>Superplasticizer</th>\n",
              "      <th>Coarse Aggregate</th>\n",
              "      <th>Fine Aggregate</th>\n",
              "      <th>Age</th>\n",
              "      <th>Strength</th>\n",
              "    </tr>\n",
              "  </thead>\n",
              "  <tbody>\n",
              "    <tr>\n",
              "      <th>0</th>\n",
              "      <td>540.0</td>\n",
              "      <td>0.0</td>\n",
              "      <td>0.0</td>\n",
              "      <td>162.0</td>\n",
              "      <td>2.5</td>\n",
              "      <td>1040.0</td>\n",
              "      <td>676.0</td>\n",
              "      <td>28</td>\n",
              "      <td>79.99</td>\n",
              "    </tr>\n",
              "    <tr>\n",
              "      <th>1</th>\n",
              "      <td>540.0</td>\n",
              "      <td>0.0</td>\n",
              "      <td>0.0</td>\n",
              "      <td>162.0</td>\n",
              "      <td>2.5</td>\n",
              "      <td>1055.0</td>\n",
              "      <td>676.0</td>\n",
              "      <td>28</td>\n",
              "      <td>61.89</td>\n",
              "    </tr>\n",
              "    <tr>\n",
              "      <th>2</th>\n",
              "      <td>332.5</td>\n",
              "      <td>142.5</td>\n",
              "      <td>0.0</td>\n",
              "      <td>228.0</td>\n",
              "      <td>0.0</td>\n",
              "      <td>932.0</td>\n",
              "      <td>594.0</td>\n",
              "      <td>270</td>\n",
              "      <td>40.27</td>\n",
              "    </tr>\n",
              "    <tr>\n",
              "      <th>3</th>\n",
              "      <td>332.5</td>\n",
              "      <td>142.5</td>\n",
              "      <td>0.0</td>\n",
              "      <td>228.0</td>\n",
              "      <td>0.0</td>\n",
              "      <td>932.0</td>\n",
              "      <td>594.0</td>\n",
              "      <td>365</td>\n",
              "      <td>41.05</td>\n",
              "    </tr>\n",
              "    <tr>\n",
              "      <th>4</th>\n",
              "      <td>198.6</td>\n",
              "      <td>132.4</td>\n",
              "      <td>0.0</td>\n",
              "      <td>192.0</td>\n",
              "      <td>0.0</td>\n",
              "      <td>978.4</td>\n",
              "      <td>825.5</td>\n",
              "      <td>360</td>\n",
              "      <td>44.30</td>\n",
              "    </tr>\n",
              "  </tbody>\n",
              "</table>\n",
              "</div>\n",
              "      <button class=\"colab-df-convert\" onclick=\"convertToInteractive('df-c927480a-a229-43bd-ab96-beb381bb9282')\"\n",
              "              title=\"Convert this dataframe to an interactive table.\"\n",
              "              style=\"display:none;\">\n",
              "        \n",
              "  <svg xmlns=\"http://www.w3.org/2000/svg\" height=\"24px\"viewBox=\"0 0 24 24\"\n",
              "       width=\"24px\">\n",
              "    <path d=\"M0 0h24v24H0V0z\" fill=\"none\"/>\n",
              "    <path d=\"M18.56 5.44l.94 2.06.94-2.06 2.06-.94-2.06-.94-.94-2.06-.94 2.06-2.06.94zm-11 1L8.5 8.5l.94-2.06 2.06-.94-2.06-.94L8.5 2.5l-.94 2.06-2.06.94zm10 10l.94 2.06.94-2.06 2.06-.94-2.06-.94-.94-2.06-.94 2.06-2.06.94z\"/><path d=\"M17.41 7.96l-1.37-1.37c-.4-.4-.92-.59-1.43-.59-.52 0-1.04.2-1.43.59L10.3 9.45l-7.72 7.72c-.78.78-.78 2.05 0 2.83L4 21.41c.39.39.9.59 1.41.59.51 0 1.02-.2 1.41-.59l7.78-7.78 2.81-2.81c.8-.78.8-2.07 0-2.86zM5.41 20L4 18.59l7.72-7.72 1.47 1.35L5.41 20z\"/>\n",
              "  </svg>\n",
              "      </button>\n",
              "      \n",
              "  <style>\n",
              "    .colab-df-container {\n",
              "      display:flex;\n",
              "      flex-wrap:wrap;\n",
              "      gap: 12px;\n",
              "    }\n",
              "\n",
              "    .colab-df-convert {\n",
              "      background-color: #E8F0FE;\n",
              "      border: none;\n",
              "      border-radius: 50%;\n",
              "      cursor: pointer;\n",
              "      display: none;\n",
              "      fill: #1967D2;\n",
              "      height: 32px;\n",
              "      padding: 0 0 0 0;\n",
              "      width: 32px;\n",
              "    }\n",
              "\n",
              "    .colab-df-convert:hover {\n",
              "      background-color: #E2EBFA;\n",
              "      box-shadow: 0px 1px 2px rgba(60, 64, 67, 0.3), 0px 1px 3px 1px rgba(60, 64, 67, 0.15);\n",
              "      fill: #174EA6;\n",
              "    }\n",
              "\n",
              "    [theme=dark] .colab-df-convert {\n",
              "      background-color: #3B4455;\n",
              "      fill: #D2E3FC;\n",
              "    }\n",
              "\n",
              "    [theme=dark] .colab-df-convert:hover {\n",
              "      background-color: #434B5C;\n",
              "      box-shadow: 0px 1px 3px 1px rgba(0, 0, 0, 0.15);\n",
              "      filter: drop-shadow(0px 1px 2px rgba(0, 0, 0, 0.3));\n",
              "      fill: #FFFFFF;\n",
              "    }\n",
              "  </style>\n",
              "\n",
              "      <script>\n",
              "        const buttonEl =\n",
              "          document.querySelector('#df-c927480a-a229-43bd-ab96-beb381bb9282 button.colab-df-convert');\n",
              "        buttonEl.style.display =\n",
              "          google.colab.kernel.accessAllowed ? 'block' : 'none';\n",
              "\n",
              "        async function convertToInteractive(key) {\n",
              "          const element = document.querySelector('#df-c927480a-a229-43bd-ab96-beb381bb9282');\n",
              "          const dataTable =\n",
              "            await google.colab.kernel.invokeFunction('convertToInteractive',\n",
              "                                                     [key], {});\n",
              "          if (!dataTable) return;\n",
              "\n",
              "          const docLinkHtml = 'Like what you see? Visit the ' +\n",
              "            '<a target=\"_blank\" href=https://colab.research.google.com/notebooks/data_table.ipynb>data table notebook</a>'\n",
              "            + ' to learn more about interactive tables.';\n",
              "          element.innerHTML = '';\n",
              "          dataTable['output_type'] = 'display_data';\n",
              "          await google.colab.output.renderOutput(dataTable, element);\n",
              "          const docLink = document.createElement('div');\n",
              "          docLink.innerHTML = docLinkHtml;\n",
              "          element.appendChild(docLink);\n",
              "        }\n",
              "      </script>\n",
              "    </div>\n",
              "  </div>\n",
              "  "
            ],
            "text/plain": [
              "   Cement  Blast Furnace Slag  Fly Ash  ...  Fine Aggregate  Age  Strength\n",
              "0   540.0                 0.0      0.0  ...           676.0   28     79.99\n",
              "1   540.0                 0.0      0.0  ...           676.0   28     61.89\n",
              "2   332.5               142.5      0.0  ...           594.0  270     40.27\n",
              "3   332.5               142.5      0.0  ...           594.0  365     41.05\n",
              "4   198.6               132.4      0.0  ...           825.5  360     44.30\n",
              "\n",
              "[5 rows x 9 columns]"
            ]
          },
          "metadata": {},
          "execution_count": 2
        }
      ]
    },
    {
      "cell_type": "code",
      "source": [
        "concrete_data.shape\n",
        "concrete_data.describe()\n",
        "concrete_data.isnull().sum()"
      ],
      "metadata": {
        "colab": {
          "base_uri": "https://localhost:8080/"
        },
        "id": "vuUyWLCbgNSC",
        "outputId": "5e8cfaf2-fdba-444e-a0d4-ba7d86806c85"
      },
      "execution_count": 3,
      "outputs": [
        {
          "output_type": "execute_result",
          "data": {
            "text/plain": [
              "Cement                0\n",
              "Blast Furnace Slag    0\n",
              "Fly Ash               0\n",
              "Water                 0\n",
              "Superplasticizer      0\n",
              "Coarse Aggregate      0\n",
              "Fine Aggregate        0\n",
              "Age                   0\n",
              "Strength              0\n",
              "dtype: int64"
            ]
          },
          "metadata": {},
          "execution_count": 3
        }
      ]
    },
    {
      "cell_type": "code",
      "source": [
        "concrete_data_columns = concrete_data.columns\n",
        "predictors = concrete_data[concrete_data_columns[concrete_data_columns != 'Strength']]\n",
        "target = concrete_data['Strength'] "
      ],
      "metadata": {
        "id": "FXojmrNPgqb0"
      },
      "execution_count": 4,
      "outputs": []
    },
    {
      "cell_type": "code",
      "source": [
        "predictors.head()\n",
        "target.head()"
      ],
      "metadata": {
        "colab": {
          "base_uri": "https://localhost:8080/"
        },
        "id": "558i26UZg2FW",
        "outputId": "dea080b0-bbb1-4dd2-ef6a-302bf9db421e"
      },
      "execution_count": 5,
      "outputs": [
        {
          "output_type": "execute_result",
          "data": {
            "text/plain": [
              "0    79.99\n",
              "1    61.89\n",
              "2    40.27\n",
              "3    41.05\n",
              "4    44.30\n",
              "Name: Strength, dtype: float64"
            ]
          },
          "metadata": {},
          "execution_count": 5
        }
      ]
    },
    {
      "cell_type": "code",
      "source": [
        "n_cols = predictors.shape[1] # number of predictors\n",
        "n_cols"
      ],
      "metadata": {
        "colab": {
          "base_uri": "https://localhost:8080/"
        },
        "id": "_sxmn4sMg7Dl",
        "outputId": "cb0f8827-982b-4569-affa-3fa302dc50de"
      },
      "execution_count": 6,
      "outputs": [
        {
          "output_type": "execute_result",
          "data": {
            "text/plain": [
              "8"
            ]
          },
          "metadata": {},
          "execution_count": 6
        }
      ]
    },
    {
      "cell_type": "code",
      "source": [
        "import keras\n",
        "from keras.models import Sequential\n",
        "from keras.layers import Dense"
      ],
      "metadata": {
        "id": "DuXEyvb0g_JO"
      },
      "execution_count": 7,
      "outputs": []
    },
    {
      "cell_type": "code",
      "source": [
        "# define regression model\n",
        "def regression_model():\n",
        "    # create model\n",
        "    model = Sequential()\n",
        "    model.add(Dense(10, activation='relu', input_shape=(n_cols,)))\n",
        "    model.add(Dense(1))\n",
        "    \n",
        "    # compile model\n",
        "    model.compile(optimizer='adam', loss='mean_squared_error')\n",
        "    return model"
      ],
      "metadata": {
        "id": "95x3z6SShECf"
      },
      "execution_count": 8,
      "outputs": []
    },
    {
      "cell_type": "code",
      "source": [
        "from sklearn.model_selection import train_test_split\n",
        "X_train, X_test, y_train, y_test = train_test_split(predictors, target, test_size=0.3, random_state=42)"
      ],
      "metadata": {
        "id": "3pCL06uUhIh4"
      },
      "execution_count": 9,
      "outputs": []
    },
    {
      "cell_type": "code",
      "source": [
        "# build the model\n",
        "model = regression_model()"
      ],
      "metadata": {
        "id": "VeUY51FshK5Q"
      },
      "execution_count": 10,
      "outputs": []
    },
    {
      "cell_type": "code",
      "source": [
        "# fit the model\n",
        "epochs = 50\n",
        "model.fit(X_train, y_train, epochs=epochs, verbose=1)"
      ],
      "metadata": {
        "colab": {
          "base_uri": "https://localhost:8080/"
        },
        "id": "lnuxxZUrhNZz",
        "outputId": "e34a89f5-3104-4a0f-ae59-d1705e93d72b"
      },
      "execution_count": 11,
      "outputs": [
        {
          "output_type": "stream",
          "name": "stdout",
          "text": [
            "Epoch 1/50\n",
            "23/23 [==============================] - 1s 3ms/step - loss: 85679.5938\n",
            "Epoch 2/50\n",
            "23/23 [==============================] - 0s 3ms/step - loss: 25909.6895\n",
            "Epoch 3/50\n",
            "23/23 [==============================] - 0s 2ms/step - loss: 10326.1982\n",
            "Epoch 4/50\n",
            "23/23 [==============================] - 0s 3ms/step - loss: 8299.6865\n",
            "Epoch 5/50\n",
            "23/23 [==============================] - 0s 2ms/step - loss: 7596.3613\n",
            "Epoch 6/50\n",
            "23/23 [==============================] - 0s 2ms/step - loss: 6932.3965\n",
            "Epoch 7/50\n",
            "23/23 [==============================] - 0s 3ms/step - loss: 6304.8965\n",
            "Epoch 8/50\n",
            "23/23 [==============================] - 0s 3ms/step - loss: 5711.6875\n",
            "Epoch 9/50\n",
            "23/23 [==============================] - 0s 2ms/step - loss: 5143.7261\n",
            "Epoch 10/50\n",
            "23/23 [==============================] - 0s 2ms/step - loss: 4619.3628\n",
            "Epoch 11/50\n",
            "23/23 [==============================] - 0s 3ms/step - loss: 4137.5220\n",
            "Epoch 12/50\n",
            "23/23 [==============================] - 0s 2ms/step - loss: 3687.1335\n",
            "Epoch 13/50\n",
            "23/23 [==============================] - 0s 2ms/step - loss: 3274.7957\n",
            "Epoch 14/50\n",
            "23/23 [==============================] - 0s 3ms/step - loss: 2892.6084\n",
            "Epoch 15/50\n",
            "23/23 [==============================] - 0s 3ms/step - loss: 2558.3870\n",
            "Epoch 16/50\n",
            "23/23 [==============================] - 0s 4ms/step - loss: 2265.3542\n",
            "Epoch 17/50\n",
            "23/23 [==============================] - 0s 3ms/step - loss: 2006.0747\n",
            "Epoch 18/50\n",
            "23/23 [==============================] - 0s 1ms/step - loss: 1782.7076\n",
            "Epoch 19/50\n",
            "23/23 [==============================] - 0s 2ms/step - loss: 1588.4716\n",
            "Epoch 20/50\n",
            "23/23 [==============================] - 0s 2ms/step - loss: 1426.2516\n",
            "Epoch 21/50\n",
            "23/23 [==============================] - 0s 1ms/step - loss: 1278.0135\n",
            "Epoch 22/50\n",
            "23/23 [==============================] - 0s 2ms/step - loss: 1158.3868\n",
            "Epoch 23/50\n",
            "23/23 [==============================] - 0s 2ms/step - loss: 1051.5204\n",
            "Epoch 24/50\n",
            "23/23 [==============================] - 0s 2ms/step - loss: 962.9265\n",
            "Epoch 25/50\n",
            "23/23 [==============================] - 0s 2ms/step - loss: 885.5367\n",
            "Epoch 26/50\n",
            "23/23 [==============================] - 0s 2ms/step - loss: 815.5621\n",
            "Epoch 27/50\n",
            "23/23 [==============================] - 0s 1ms/step - loss: 757.8052\n",
            "Epoch 28/50\n",
            "23/23 [==============================] - 0s 2ms/step - loss: 705.1600\n",
            "Epoch 29/50\n",
            "23/23 [==============================] - 0s 2ms/step - loss: 661.6160\n",
            "Epoch 30/50\n",
            "23/23 [==============================] - 0s 2ms/step - loss: 622.5086\n",
            "Epoch 31/50\n",
            "23/23 [==============================] - 0s 2ms/step - loss: 587.0728\n",
            "Epoch 32/50\n",
            "23/23 [==============================] - 0s 2ms/step - loss: 556.4102\n",
            "Epoch 33/50\n",
            "23/23 [==============================] - 0s 2ms/step - loss: 530.4578\n",
            "Epoch 34/50\n",
            "23/23 [==============================] - 0s 2ms/step - loss: 505.3358\n",
            "Epoch 35/50\n",
            "23/23 [==============================] - 0s 2ms/step - loss: 482.3425\n",
            "Epoch 36/50\n",
            "23/23 [==============================] - 0s 2ms/step - loss: 462.5538\n",
            "Epoch 37/50\n",
            "23/23 [==============================] - 0s 2ms/step - loss: 444.3708\n",
            "Epoch 38/50\n",
            "23/23 [==============================] - 0s 3ms/step - loss: 428.3510\n",
            "Epoch 39/50\n",
            "23/23 [==============================] - 0s 3ms/step - loss: 413.1457\n",
            "Epoch 40/50\n",
            "23/23 [==============================] - 0s 2ms/step - loss: 400.3745\n",
            "Epoch 41/50\n",
            "23/23 [==============================] - 0s 2ms/step - loss: 387.1895\n",
            "Epoch 42/50\n",
            "23/23 [==============================] - 0s 2ms/step - loss: 375.3448\n",
            "Epoch 43/50\n",
            "23/23 [==============================] - 0s 2ms/step - loss: 364.6456\n",
            "Epoch 44/50\n",
            "23/23 [==============================] - 0s 2ms/step - loss: 355.5764\n",
            "Epoch 45/50\n",
            "23/23 [==============================] - 0s 2ms/step - loss: 346.3762\n",
            "Epoch 46/50\n",
            "23/23 [==============================] - 0s 2ms/step - loss: 336.5204\n",
            "Epoch 47/50\n",
            "23/23 [==============================] - 0s 2ms/step - loss: 328.9656\n",
            "Epoch 48/50\n",
            "23/23 [==============================] - 0s 2ms/step - loss: 320.7794\n",
            "Epoch 49/50\n",
            "23/23 [==============================] - 0s 1ms/step - loss: 312.9201\n",
            "Epoch 50/50\n",
            "23/23 [==============================] - 0s 1ms/step - loss: 306.1441\n"
          ]
        },
        {
          "output_type": "execute_result",
          "data": {
            "text/plain": [
              "<keras.callbacks.History at 0x7efc92ba3f10>"
            ]
          },
          "metadata": {},
          "execution_count": 11
        }
      ]
    },
    {
      "cell_type": "code",
      "source": [
        "loss_val = model.evaluate(X_test, y_test)\n",
        "y_pred = model.predict(X_test)\n",
        "loss_val"
      ],
      "metadata": {
        "colab": {
          "base_uri": "https://localhost:8080/"
        },
        "id": "L7bkeYFAhRpU",
        "outputId": "63a1f96f-3127-4816-ea7c-e3d7eeab7041"
      },
      "execution_count": 12,
      "outputs": [
        {
          "output_type": "stream",
          "name": "stdout",
          "text": [
            "10/10 [==============================] - 0s 2ms/step - loss: 302.7048\n"
          ]
        },
        {
          "output_type": "execute_result",
          "data": {
            "text/plain": [
              "302.704833984375"
            ]
          },
          "metadata": {},
          "execution_count": 12
        }
      ]
    },
    {
      "cell_type": "code",
      "source": [
        "from sklearn.metrics import mean_squared_error"
      ],
      "metadata": {
        "id": "5SUxevb8hWgi"
      },
      "execution_count": 13,
      "outputs": []
    },
    {
      "cell_type": "code",
      "source": [
        "mean_square_error = mean_squared_error(y_test, y_pred)\n",
        "mean = np.mean(mean_square_error)\n",
        "standard_deviation = np.std(mean_square_error)\n",
        "print(mean, standard_deviation)"
      ],
      "metadata": {
        "colab": {
          "base_uri": "https://localhost:8080/"
        },
        "id": "vMA_UNDKhY_Q",
        "outputId": "ef730558-b723-4c2a-c606-bcbe7888ace0"
      },
      "execution_count": 14,
      "outputs": [
        {
          "output_type": "stream",
          "name": "stdout",
          "text": [
            "302.704828452735 0.0\n"
          ]
        }
      ]
    },
    {
      "cell_type": "code",
      "source": [
        "total_mean_squared_errors = 50\n",
        "epochs = 50\n",
        "mean_squared_errors = []\n",
        "for i in range(0, total_mean_squared_errors):\n",
        "    X_train, X_test, y_train, y_test = train_test_split(predictors, target, test_size=0.3, random_state=i)\n",
        "    model.fit(X_train, y_train, epochs=epochs, verbose=0)\n",
        "    MSE = model.evaluate(X_test, y_test, verbose=0)\n",
        "    print(\"MSE \"+str(i+1)+\": \"+str(MSE))\n",
        "    y_pred = model.predict(X_test)\n",
        "    mean_square_error = mean_squared_error(y_test, y_pred)\n",
        "    mean_squared_errors.append(mean_square_error)\n",
        "\n",
        "mean_squared_errors = np.array(mean_squared_errors)\n",
        "mean = np.mean(mean_squared_errors)\n",
        "standard_deviation = np.std(mean_squared_errors)\n",
        "\n",
        "print('\\n')\n",
        "print(\"Below is the mean and standard deviation of \" +str(total_mean_squared_errors) + \" mean squared errors without normalized data. Total number of epochs for each training is: \" +str(epochs) + \"\\n\")\n",
        "print(\"Mean: \"+str(mean))\n",
        "print(\"Standard Deviation: \"+str(standard_deviation))"
      ],
      "metadata": {
        "colab": {
          "base_uri": "https://localhost:8080/"
        },
        "id": "gyally9ihbza",
        "outputId": "f198da92-b04c-44ae-8d8b-5d1ad61f02f3"
      },
      "execution_count": 16,
      "outputs": [
        {
          "output_type": "stream",
          "name": "stdout",
          "text": [
            "MSE 1: 147.85736083984375\n",
            "MSE 2: 140.57089233398438\n",
            "MSE 3: 116.57471466064453\n",
            "MSE 4: 129.34149169921875\n",
            "MSE 5: 121.13115692138672\n",
            "MSE 6: 109.35052490234375\n",
            "MSE 7: 134.6636505126953\n",
            "MSE 8: 98.88585662841797\n",
            "MSE 9: 121.42144775390625\n",
            "MSE 10: 111.60618591308594\n",
            "MSE 11: 104.24948120117188\n",
            "MSE 12: 103.9742202758789\n",
            "MSE 13: 114.61389923095703\n",
            "MSE 14: 123.95985412597656\n",
            "MSE 15: 110.83761596679688\n",
            "MSE 16: 106.10770416259766\n",
            "MSE 17: 104.23796081542969\n",
            "MSE 18: 97.64127349853516\n",
            "MSE 19: 83.46060943603516\n",
            "MSE 20: 55.57658386230469\n",
            "MSE 21: 46.64892578125\n",
            "MSE 22: 62.6425895690918\n",
            "MSE 23: 46.8073616027832\n",
            "MSE 24: 51.0077018737793\n",
            "MSE 25: 48.668670654296875\n",
            "MSE 26: 50.36328887939453\n",
            "MSE 27: 52.4709358215332\n",
            "MSE 28: 51.894107818603516\n",
            "MSE 29: 59.1265983581543\n",
            "MSE 30: 50.36805725097656\n",
            "MSE 31: 59.13487243652344\n",
            "MSE 32: 51.602508544921875\n",
            "MSE 33: 47.307525634765625\n",
            "MSE 34: 51.074283599853516\n",
            "MSE 35: 56.07449722290039\n",
            "MSE 36: 56.148040771484375\n",
            "MSE 37: 52.71218490600586\n",
            "MSE 38: 55.76665496826172\n",
            "MSE 39: 49.05105209350586\n",
            "MSE 40: 44.452064514160156\n",
            "MSE 41: 57.43264389038086\n",
            "MSE 42: 48.32904815673828\n",
            "MSE 43: 63.56381607055664\n",
            "MSE 44: 53.5742073059082\n",
            "MSE 45: 53.97949981689453\n",
            "MSE 46: 63.19628143310547\n",
            "MSE 47: 52.39522171020508\n",
            "MSE 48: 51.43131637573242\n",
            "MSE 49: 51.24802780151367\n",
            "MSE 50: 53.784000396728516\n",
            "\n",
            "\n",
            "Below is the mean and standard deviation of 50 mean squared errors without normalized data. Total number of epochs for each training is: 50\n",
            "\n",
            "Mean: 76.56636985794574\n",
            "Standard Deviation: 31.608189755441835\n"
          ]
        }
      ]
    },
    {
      "cell_type": "code",
      "source": [
        ""
      ],
      "metadata": {
        "id": "czi7q-8thfe6"
      },
      "execution_count": null,
      "outputs": []
    }
  ]
}
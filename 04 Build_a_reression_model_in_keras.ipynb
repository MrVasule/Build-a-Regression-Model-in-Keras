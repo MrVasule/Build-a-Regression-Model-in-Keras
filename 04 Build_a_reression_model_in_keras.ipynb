{
  "nbformat": 4,
  "nbformat_minor": 0,
  "metadata": {
    "colab": {
      "name": "Build a reression model in keras.ipynb",
      "provenance": []
    },
    "kernelspec": {
      "name": "python3",
      "display_name": "Python 3"
    },
    "language_info": {
      "name": "python"
    }
  },
  "cells": [
    {
      "cell_type": "code",
      "execution_count": 1,
      "metadata": {
        "id": "kDNy1RPmfqDM"
      },
      "outputs": [],
      "source": [
        "import pandas as pd\n",
        "import numpy as np"
      ]
    },
    {
      "cell_type": "code",
      "source": [
        "concrete_data = pd.read_csv('https://cocl.us/concrete_data')\n",
        "concrete_data.head()"
      ],
      "metadata": {
        "colab": {
          "base_uri": "https://localhost:8080/",
          "height": 206
        },
        "id": "tKYzQhfCgF3K",
        "outputId": "2a89ca50-4c48-4998-80b7-f0485ec5acf0"
      },
      "execution_count": 2,
      "outputs": [
        {
          "output_type": "execute_result",
          "data": {
            "text/html": [
              "\n",
              "  <div id=\"df-f44a031e-22d6-4d58-bf35-d6807a955f61\">\n",
              "    <div class=\"colab-df-container\">\n",
              "      <div>\n",
              "<style scoped>\n",
              "    .dataframe tbody tr th:only-of-type {\n",
              "        vertical-align: middle;\n",
              "    }\n",
              "\n",
              "    .dataframe tbody tr th {\n",
              "        vertical-align: top;\n",
              "    }\n",
              "\n",
              "    .dataframe thead th {\n",
              "        text-align: right;\n",
              "    }\n",
              "</style>\n",
              "<table border=\"1\" class=\"dataframe\">\n",
              "  <thead>\n",
              "    <tr style=\"text-align: right;\">\n",
              "      <th></th>\n",
              "      <th>Cement</th>\n",
              "      <th>Blast Furnace Slag</th>\n",
              "      <th>Fly Ash</th>\n",
              "      <th>Water</th>\n",
              "      <th>Superplasticizer</th>\n",
              "      <th>Coarse Aggregate</th>\n",
              "      <th>Fine Aggregate</th>\n",
              "      <th>Age</th>\n",
              "      <th>Strength</th>\n",
              "    </tr>\n",
              "  </thead>\n",
              "  <tbody>\n",
              "    <tr>\n",
              "      <th>0</th>\n",
              "      <td>540.0</td>\n",
              "      <td>0.0</td>\n",
              "      <td>0.0</td>\n",
              "      <td>162.0</td>\n",
              "      <td>2.5</td>\n",
              "      <td>1040.0</td>\n",
              "      <td>676.0</td>\n",
              "      <td>28</td>\n",
              "      <td>79.99</td>\n",
              "    </tr>\n",
              "    <tr>\n",
              "      <th>1</th>\n",
              "      <td>540.0</td>\n",
              "      <td>0.0</td>\n",
              "      <td>0.0</td>\n",
              "      <td>162.0</td>\n",
              "      <td>2.5</td>\n",
              "      <td>1055.0</td>\n",
              "      <td>676.0</td>\n",
              "      <td>28</td>\n",
              "      <td>61.89</td>\n",
              "    </tr>\n",
              "    <tr>\n",
              "      <th>2</th>\n",
              "      <td>332.5</td>\n",
              "      <td>142.5</td>\n",
              "      <td>0.0</td>\n",
              "      <td>228.0</td>\n",
              "      <td>0.0</td>\n",
              "      <td>932.0</td>\n",
              "      <td>594.0</td>\n",
              "      <td>270</td>\n",
              "      <td>40.27</td>\n",
              "    </tr>\n",
              "    <tr>\n",
              "      <th>3</th>\n",
              "      <td>332.5</td>\n",
              "      <td>142.5</td>\n",
              "      <td>0.0</td>\n",
              "      <td>228.0</td>\n",
              "      <td>0.0</td>\n",
              "      <td>932.0</td>\n",
              "      <td>594.0</td>\n",
              "      <td>365</td>\n",
              "      <td>41.05</td>\n",
              "    </tr>\n",
              "    <tr>\n",
              "      <th>4</th>\n",
              "      <td>198.6</td>\n",
              "      <td>132.4</td>\n",
              "      <td>0.0</td>\n",
              "      <td>192.0</td>\n",
              "      <td>0.0</td>\n",
              "      <td>978.4</td>\n",
              "      <td>825.5</td>\n",
              "      <td>360</td>\n",
              "      <td>44.30</td>\n",
              "    </tr>\n",
              "  </tbody>\n",
              "</table>\n",
              "</div>\n",
              "      <button class=\"colab-df-convert\" onclick=\"convertToInteractive('df-f44a031e-22d6-4d58-bf35-d6807a955f61')\"\n",
              "              title=\"Convert this dataframe to an interactive table.\"\n",
              "              style=\"display:none;\">\n",
              "        \n",
              "  <svg xmlns=\"http://www.w3.org/2000/svg\" height=\"24px\"viewBox=\"0 0 24 24\"\n",
              "       width=\"24px\">\n",
              "    <path d=\"M0 0h24v24H0V0z\" fill=\"none\"/>\n",
              "    <path d=\"M18.56 5.44l.94 2.06.94-2.06 2.06-.94-2.06-.94-.94-2.06-.94 2.06-2.06.94zm-11 1L8.5 8.5l.94-2.06 2.06-.94-2.06-.94L8.5 2.5l-.94 2.06-2.06.94zm10 10l.94 2.06.94-2.06 2.06-.94-2.06-.94-.94-2.06-.94 2.06-2.06.94z\"/><path d=\"M17.41 7.96l-1.37-1.37c-.4-.4-.92-.59-1.43-.59-.52 0-1.04.2-1.43.59L10.3 9.45l-7.72 7.72c-.78.78-.78 2.05 0 2.83L4 21.41c.39.39.9.59 1.41.59.51 0 1.02-.2 1.41-.59l7.78-7.78 2.81-2.81c.8-.78.8-2.07 0-2.86zM5.41 20L4 18.59l7.72-7.72 1.47 1.35L5.41 20z\"/>\n",
              "  </svg>\n",
              "      </button>\n",
              "      \n",
              "  <style>\n",
              "    .colab-df-container {\n",
              "      display:flex;\n",
              "      flex-wrap:wrap;\n",
              "      gap: 12px;\n",
              "    }\n",
              "\n",
              "    .colab-df-convert {\n",
              "      background-color: #E8F0FE;\n",
              "      border: none;\n",
              "      border-radius: 50%;\n",
              "      cursor: pointer;\n",
              "      display: none;\n",
              "      fill: #1967D2;\n",
              "      height: 32px;\n",
              "      padding: 0 0 0 0;\n",
              "      width: 32px;\n",
              "    }\n",
              "\n",
              "    .colab-df-convert:hover {\n",
              "      background-color: #E2EBFA;\n",
              "      box-shadow: 0px 1px 2px rgba(60, 64, 67, 0.3), 0px 1px 3px 1px rgba(60, 64, 67, 0.15);\n",
              "      fill: #174EA6;\n",
              "    }\n",
              "\n",
              "    [theme=dark] .colab-df-convert {\n",
              "      background-color: #3B4455;\n",
              "      fill: #D2E3FC;\n",
              "    }\n",
              "\n",
              "    [theme=dark] .colab-df-convert:hover {\n",
              "      background-color: #434B5C;\n",
              "      box-shadow: 0px 1px 3px 1px rgba(0, 0, 0, 0.15);\n",
              "      filter: drop-shadow(0px 1px 2px rgba(0, 0, 0, 0.3));\n",
              "      fill: #FFFFFF;\n",
              "    }\n",
              "  </style>\n",
              "\n",
              "      <script>\n",
              "        const buttonEl =\n",
              "          document.querySelector('#df-f44a031e-22d6-4d58-bf35-d6807a955f61 button.colab-df-convert');\n",
              "        buttonEl.style.display =\n",
              "          google.colab.kernel.accessAllowed ? 'block' : 'none';\n",
              "\n",
              "        async function convertToInteractive(key) {\n",
              "          const element = document.querySelector('#df-f44a031e-22d6-4d58-bf35-d6807a955f61');\n",
              "          const dataTable =\n",
              "            await google.colab.kernel.invokeFunction('convertToInteractive',\n",
              "                                                     [key], {});\n",
              "          if (!dataTable) return;\n",
              "\n",
              "          const docLinkHtml = 'Like what you see? Visit the ' +\n",
              "            '<a target=\"_blank\" href=https://colab.research.google.com/notebooks/data_table.ipynb>data table notebook</a>'\n",
              "            + ' to learn more about interactive tables.';\n",
              "          element.innerHTML = '';\n",
              "          dataTable['output_type'] = 'display_data';\n",
              "          await google.colab.output.renderOutput(dataTable, element);\n",
              "          const docLink = document.createElement('div');\n",
              "          docLink.innerHTML = docLinkHtml;\n",
              "          element.appendChild(docLink);\n",
              "        }\n",
              "      </script>\n",
              "    </div>\n",
              "  </div>\n",
              "  "
            ],
            "text/plain": [
              "   Cement  Blast Furnace Slag  Fly Ash  ...  Fine Aggregate  Age  Strength\n",
              "0   540.0                 0.0      0.0  ...           676.0   28     79.99\n",
              "1   540.0                 0.0      0.0  ...           676.0   28     61.89\n",
              "2   332.5               142.5      0.0  ...           594.0  270     40.27\n",
              "3   332.5               142.5      0.0  ...           594.0  365     41.05\n",
              "4   198.6               132.4      0.0  ...           825.5  360     44.30\n",
              "\n",
              "[5 rows x 9 columns]"
            ]
          },
          "metadata": {},
          "execution_count": 2
        }
      ]
    },
    {
      "cell_type": "code",
      "source": [
        "concrete_data.shape\n",
        "concrete_data.describe()\n",
        "concrete_data.isnull().sum()"
      ],
      "metadata": {
        "colab": {
          "base_uri": "https://localhost:8080/"
        },
        "id": "vuUyWLCbgNSC",
        "outputId": "55ccf064-b627-4322-bc88-a89bf0dbfb04"
      },
      "execution_count": 3,
      "outputs": [
        {
          "output_type": "execute_result",
          "data": {
            "text/plain": [
              "Cement                0\n",
              "Blast Furnace Slag    0\n",
              "Fly Ash               0\n",
              "Water                 0\n",
              "Superplasticizer      0\n",
              "Coarse Aggregate      0\n",
              "Fine Aggregate        0\n",
              "Age                   0\n",
              "Strength              0\n",
              "dtype: int64"
            ]
          },
          "metadata": {},
          "execution_count": 3
        }
      ]
    },
    {
      "cell_type": "markdown",
      "source": [
        "# Cleaning And Normlized Data"
      ],
      "metadata": {
        "id": "tmwwXicBjHb-"
      }
    },
    {
      "cell_type": "code",
      "source": [
        "concrete_data_columns = concrete_data.columns\n",
        "predictors = concrete_data[concrete_data_columns[concrete_data_columns != 'Strength']]\n",
        "target = concrete_data['Strength'] "
      ],
      "metadata": {
        "id": "FXojmrNPgqb0"
      },
      "execution_count": 4,
      "outputs": []
    },
    {
      "cell_type": "code",
      "source": [
        "predictors.head()\n",
        "target.head()"
      ],
      "metadata": {
        "colab": {
          "base_uri": "https://localhost:8080/"
        },
        "id": "558i26UZg2FW",
        "outputId": "fd04cfbc-15f8-4768-93dc-2f4590082024"
      },
      "execution_count": 5,
      "outputs": [
        {
          "output_type": "execute_result",
          "data": {
            "text/plain": [
              "0    79.99\n",
              "1    61.89\n",
              "2    40.27\n",
              "3    41.05\n",
              "4    44.30\n",
              "Name: Strength, dtype: float64"
            ]
          },
          "metadata": {},
          "execution_count": 5
        }
      ]
    },
    {
      "cell_type": "code",
      "source": [
        "n_cols = predictors.shape[1] # number of predictors\n",
        "n_cols"
      ],
      "metadata": {
        "colab": {
          "base_uri": "https://localhost:8080/"
        },
        "id": "_sxmn4sMg7Dl",
        "outputId": "1b2daa60-d8c3-43ea-86e4-20d48de71abe"
      },
      "execution_count": 6,
      "outputs": [
        {
          "output_type": "execute_result",
          "data": {
            "text/plain": [
              "8"
            ]
          },
          "metadata": {},
          "execution_count": 6
        }
      ]
    },
    {
      "cell_type": "code",
      "source": [
        "import keras\n",
        "from keras.models import Sequential\n",
        "from keras.layers import Dense"
      ],
      "metadata": {
        "id": "DuXEyvb0g_JO"
      },
      "execution_count": 7,
      "outputs": []
    },
    {
      "cell_type": "code",
      "source": [
        "# define regression model\n",
        "def regression_model():\n",
        "    # create model\n",
        "    model = Sequential()\n",
        "    model.add(Dense(10, activation='relu', input_shape=(n_cols,)))\n",
        "    model.add(Dense(10, activation='relu', input_shape=(n_cols,)))\n",
        "    model.add(Dense(10, activation='relu', input_shape=(n_cols,)))\n",
        "    model.add(Dense(1))\n",
        "    \n",
        "    # compile model\n",
        "    model.compile(optimizer='adam', loss='mean_squared_error')\n",
        "    return model"
      ],
      "metadata": {
        "id": "95x3z6SShECf"
      },
      "execution_count": 8,
      "outputs": []
    },
    {
      "cell_type": "code",
      "source": [
        "from sklearn.model_selection import train_test_split\n",
        "X_train, X_test, y_train, y_test = train_test_split(predictors, target, test_size=0.3, random_state=42)"
      ],
      "metadata": {
        "id": "3pCL06uUhIh4"
      },
      "execution_count": 9,
      "outputs": []
    },
    {
      "cell_type": "code",
      "source": [
        "# build the model\n",
        "model = regression_model()"
      ],
      "metadata": {
        "id": "VeUY51FshK5Q"
      },
      "execution_count": 10,
      "outputs": []
    },
    {
      "cell_type": "code",
      "source": [
        "# fit the model\n",
        "epochs = 50\n",
        "model.fit(X_train, y_train, epochs=epochs, verbose=1)"
      ],
      "metadata": {
        "colab": {
          "base_uri": "https://localhost:8080/"
        },
        "id": "lnuxxZUrhNZz",
        "outputId": "ee2be42f-24ee-4d9b-9024-efc32635cb98"
      },
      "execution_count": 11,
      "outputs": [
        {
          "output_type": "stream",
          "name": "stdout",
          "text": [
            "Epoch 1/50\n",
            "23/23 [==============================] - 1s 2ms/step - loss: 19311.5508\n",
            "Epoch 2/50\n",
            "23/23 [==============================] - 0s 2ms/step - loss: 5564.0210\n",
            "Epoch 3/50\n",
            "23/23 [==============================] - 0s 2ms/step - loss: 1658.8755\n",
            "Epoch 4/50\n",
            "23/23 [==============================] - 0s 2ms/step - loss: 643.4480\n",
            "Epoch 5/50\n",
            "23/23 [==============================] - 0s 2ms/step - loss: 440.9045\n",
            "Epoch 6/50\n",
            "23/23 [==============================] - 0s 2ms/step - loss: 366.9004\n",
            "Epoch 7/50\n",
            "23/23 [==============================] - 0s 2ms/step - loss: 329.9807\n",
            "Epoch 8/50\n",
            "23/23 [==============================] - 0s 2ms/step - loss: 296.5840\n",
            "Epoch 9/50\n",
            "23/23 [==============================] - 0s 2ms/step - loss: 273.7863\n",
            "Epoch 10/50\n",
            "23/23 [==============================] - 0s 2ms/step - loss: 258.4000\n",
            "Epoch 11/50\n",
            "23/23 [==============================] - 0s 2ms/step - loss: 244.0909\n",
            "Epoch 12/50\n",
            "23/23 [==============================] - 0s 2ms/step - loss: 231.3864\n",
            "Epoch 13/50\n",
            "23/23 [==============================] - 0s 2ms/step - loss: 221.0608\n",
            "Epoch 14/50\n",
            "23/23 [==============================] - 0s 3ms/step - loss: 209.1380\n",
            "Epoch 15/50\n",
            "23/23 [==============================] - 0s 2ms/step - loss: 199.3103\n",
            "Epoch 16/50\n",
            "23/23 [==============================] - 0s 2ms/step - loss: 186.6750\n",
            "Epoch 17/50\n",
            "23/23 [==============================] - 0s 2ms/step - loss: 174.4332\n",
            "Epoch 18/50\n",
            "23/23 [==============================] - 0s 2ms/step - loss: 164.2809\n",
            "Epoch 19/50\n",
            "23/23 [==============================] - 0s 2ms/step - loss: 150.4736\n",
            "Epoch 20/50\n",
            "23/23 [==============================] - 0s 2ms/step - loss: 140.9524\n",
            "Epoch 21/50\n",
            "23/23 [==============================] - 0s 2ms/step - loss: 133.1262\n",
            "Epoch 22/50\n",
            "23/23 [==============================] - 0s 2ms/step - loss: 125.7147\n",
            "Epoch 23/50\n",
            "23/23 [==============================] - 0s 2ms/step - loss: 119.6977\n",
            "Epoch 24/50\n",
            "23/23 [==============================] - 0s 2ms/step - loss: 117.1611\n",
            "Epoch 25/50\n",
            "23/23 [==============================] - 0s 2ms/step - loss: 112.3151\n",
            "Epoch 26/50\n",
            "23/23 [==============================] - 0s 3ms/step - loss: 108.0367\n",
            "Epoch 27/50\n",
            "23/23 [==============================] - 0s 4ms/step - loss: 104.9803\n",
            "Epoch 28/50\n",
            "23/23 [==============================] - 0s 3ms/step - loss: 103.8958\n",
            "Epoch 29/50\n",
            "23/23 [==============================] - 0s 3ms/step - loss: 101.7850\n",
            "Epoch 30/50\n",
            "23/23 [==============================] - 0s 3ms/step - loss: 100.3624\n",
            "Epoch 31/50\n",
            "23/23 [==============================] - 0s 4ms/step - loss: 99.4610\n",
            "Epoch 32/50\n",
            "23/23 [==============================] - 0s 3ms/step - loss: 98.6371\n",
            "Epoch 33/50\n",
            "23/23 [==============================] - 0s 3ms/step - loss: 99.0503\n",
            "Epoch 34/50\n",
            "23/23 [==============================] - 0s 3ms/step - loss: 98.7113\n",
            "Epoch 35/50\n",
            "23/23 [==============================] - 0s 4ms/step - loss: 95.2688\n",
            "Epoch 36/50\n",
            "23/23 [==============================] - 0s 4ms/step - loss: 96.8767\n",
            "Epoch 37/50\n",
            "23/23 [==============================] - 0s 3ms/step - loss: 95.8819\n",
            "Epoch 38/50\n",
            "23/23 [==============================] - 0s 4ms/step - loss: 93.7027\n",
            "Epoch 39/50\n",
            "23/23 [==============================] - 0s 4ms/step - loss: 93.5210\n",
            "Epoch 40/50\n",
            "23/23 [==============================] - 0s 4ms/step - loss: 92.9236\n",
            "Epoch 41/50\n",
            "23/23 [==============================] - 0s 3ms/step - loss: 91.6190\n",
            "Epoch 42/50\n",
            "23/23 [==============================] - 0s 3ms/step - loss: 93.5108\n",
            "Epoch 43/50\n",
            "23/23 [==============================] - 0s 4ms/step - loss: 90.3932\n",
            "Epoch 44/50\n",
            "23/23 [==============================] - 0s 3ms/step - loss: 90.5164\n",
            "Epoch 45/50\n",
            "23/23 [==============================] - 0s 4ms/step - loss: 89.2823\n",
            "Epoch 46/50\n",
            "23/23 [==============================] - 0s 3ms/step - loss: 92.8097\n",
            "Epoch 47/50\n",
            "23/23 [==============================] - 0s 3ms/step - loss: 88.8654\n",
            "Epoch 48/50\n",
            "23/23 [==============================] - 0s 3ms/step - loss: 88.3775\n",
            "Epoch 49/50\n",
            "23/23 [==============================] - 0s 3ms/step - loss: 94.5466\n",
            "Epoch 50/50\n",
            "23/23 [==============================] - 0s 3ms/step - loss: 89.0243\n"
          ]
        },
        {
          "output_type": "execute_result",
          "data": {
            "text/plain": [
              "<keras.callbacks.History at 0x7fdba9125d50>"
            ]
          },
          "metadata": {},
          "execution_count": 11
        }
      ]
    },
    {
      "cell_type": "code",
      "source": [
        "loss_val = model.evaluate(X_test, y_test)\n",
        "y_pred = model.predict(X_test)\n",
        "loss_val"
      ],
      "metadata": {
        "colab": {
          "base_uri": "https://localhost:8080/"
        },
        "id": "L7bkeYFAhRpU",
        "outputId": "ce48d6eb-ae77-4f55-ef54-63180c10d4f3"
      },
      "execution_count": 12,
      "outputs": [
        {
          "output_type": "stream",
          "name": "stdout",
          "text": [
            "10/10 [==============================] - 0s 4ms/step - loss: 98.7865\n"
          ]
        },
        {
          "output_type": "execute_result",
          "data": {
            "text/plain": [
              "98.78646087646484"
            ]
          },
          "metadata": {},
          "execution_count": 12
        }
      ]
    },
    {
      "cell_type": "code",
      "source": [
        "from sklearn.metrics import mean_squared_error"
      ],
      "metadata": {
        "id": "5SUxevb8hWgi"
      },
      "execution_count": 13,
      "outputs": []
    },
    {
      "cell_type": "code",
      "source": [
        "mean_square_error = mean_squared_error(y_test, y_pred)\n",
        "mean = np.mean(mean_square_error)\n",
        "standard_deviation = np.std(mean_square_error)\n",
        "print(mean, standard_deviation)"
      ],
      "metadata": {
        "colab": {
          "base_uri": "https://localhost:8080/"
        },
        "id": "vMA_UNDKhY_Q",
        "outputId": "8550eebb-e354-461b-ec2e-1f0814fb135d"
      },
      "execution_count": 14,
      "outputs": [
        {
          "output_type": "stream",
          "name": "stdout",
          "text": [
            "98.78645752448409 0.0\n"
          ]
        }
      ]
    },
    {
      "cell_type": "code",
      "source": [
        "total_mean_squared_errors = 50\n",
        "epochs = 50\n",
        "mean_squared_errors = []\n",
        "for i in range(0, total_mean_squared_errors):\n",
        "    X_train, X_test, y_train, y_test = train_test_split(predictors, target, test_size=0.3, random_state=i)\n",
        "    model.fit(X_train, y_train, epochs=epochs, verbose=0)\n",
        "    MSE = model.evaluate(X_test, y_test, verbose=0)\n",
        "    print(\"MSE \"+str(i+1)+\": \"+str(MSE))\n",
        "    y_pred = model.predict(X_test)\n",
        "    mean_square_error = mean_squared_error(y_test, y_pred)\n",
        "    mean_squared_errors.append(mean_square_error)\n",
        "\n",
        "mean_squared_errors = np.array(mean_squared_errors)\n",
        "mean = np.mean(mean_squared_errors)\n",
        "standard_deviation = np.std(mean_squared_errors)\n",
        "\n",
        "print('\\n')\n",
        "print(\"Below is the mean and standard deviation of \" +str(total_mean_squared_errors) + \" mean squared errors without normalized data. Total number of epochs for each training is: \" +str(epochs) + \"\\n\")\n",
        "print(\"Mean: \"+str(mean))\n",
        "print(\"Standard Deviation: \"+str(standard_deviation))"
      ],
      "metadata": {
        "colab": {
          "base_uri": "https://localhost:8080/"
        },
        "id": "gyally9ihbza",
        "outputId": "57ff0601-ddda-43c1-f5fb-48ff845b227c"
      },
      "execution_count": 15,
      "outputs": [
        {
          "output_type": "stream",
          "name": "stdout",
          "text": [
            "MSE 1: 69.25635528564453\n",
            "MSE 2: 76.63868713378906\n",
            "MSE 3: 59.26712417602539\n",
            "MSE 4: 77.78072357177734\n",
            "MSE 5: 58.67495346069336\n",
            "MSE 6: 56.764259338378906\n",
            "MSE 7: 67.4011459350586\n",
            "MSE 8: 45.56171798706055\n",
            "MSE 9: 44.91440200805664\n",
            "MSE 10: 49.79417419433594\n",
            "MSE 11: 42.61753845214844\n",
            "MSE 12: 41.30302047729492\n",
            "MSE 13: 60.076297760009766\n",
            "MSE 14: 53.710052490234375\n",
            "MSE 15: 42.670684814453125\n",
            "MSE 16: 37.845760345458984\n",
            "MSE 17: 43.74470901489258\n",
            "MSE 18: 56.51942443847656\n",
            "MSE 19: 38.921875\n",
            "MSE 20: 43.46589279174805\n",
            "MSE 21: 38.66956329345703\n",
            "MSE 22: 39.4266471862793\n",
            "MSE 23: 37.59320068359375\n",
            "MSE 24: 37.12971115112305\n",
            "MSE 25: 45.204227447509766\n",
            "MSE 26: 45.15833282470703\n",
            "MSE 27: 47.85533905029297\n",
            "MSE 28: 39.3650016784668\n",
            "MSE 29: 43.22714614868164\n",
            "MSE 30: 41.794960021972656\n",
            "MSE 31: 42.807186126708984\n",
            "MSE 32: 33.7171745300293\n",
            "MSE 33: 39.13702392578125\n",
            "MSE 34: 39.57974624633789\n",
            "MSE 35: 43.37106704711914\n",
            "MSE 36: 41.790260314941406\n",
            "MSE 37: 42.828392028808594\n",
            "MSE 38: 45.4263916015625\n",
            "MSE 39: 37.46105194091797\n",
            "MSE 40: 31.862876892089844\n",
            "MSE 41: 44.79798889160156\n",
            "MSE 42: 34.567195892333984\n",
            "MSE 43: 36.856510162353516\n",
            "MSE 44: 49.356048583984375\n",
            "MSE 45: 42.358577728271484\n",
            "MSE 46: 43.52251434326172\n",
            "MSE 47: 40.71234130859375\n",
            "MSE 48: 46.33695983886719\n",
            "MSE 49: 41.596954345703125\n",
            "MSE 50: 39.97416305541992\n",
            "\n",
            "\n",
            "Below is the mean and standard deviation of 50 mean squared errors without normalized data. Total number of epochs for each training is: 50\n",
            "\n",
            "Mean: 46.00826677070384\n",
            "Standard Deviation: 10.163353562151189\n"
          ]
        }
      ]
    },
    {
      "cell_type": "code",
      "source": [
        ""
      ],
      "metadata": {
        "id": "czi7q-8thfe6"
      },
      "execution_count": 15,
      "outputs": []
    }
  ]
}